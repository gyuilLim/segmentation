{
 "cells": [
  {
   "cell_type": "code",
   "execution_count": 1,
   "metadata": {},
   "outputs": [
    {
     "name": "stderr",
     "output_type": "stream",
     "text": [
      "/home/vision/anaconda3/envs/torch/lib/python3.8/site-packages/tqdm/auto.py:21: TqdmWarning: IProgress not found. Please update jupyter and ipywidgets. See https://ipywidgets.readthedocs.io/en/stable/user_install.html\n",
      "  from .autonotebook import tqdm as notebook_tqdm\n",
      "/home/vision/anaconda3/envs/torch/lib/python3.8/site-packages/albumentations/__init__.py:13: UserWarning: A new version of Albumentations is available: 1.4.21 (you have 1.4.17). Upgrade using: pip install -U albumentations. To disable automatic update checks, set the environment variable NO_ALBUMENTATIONS_UPDATE to 1.\n",
      "  check_for_updates()\n"
     ]
    }
   ],
   "source": [
    "import torch\n",
    "import random\n",
    "import os\n",
    "import json\n",
    "\n",
    "import numpy as np\n",
    "import torch.nn as nn\n",
    "from torch.utils.data import DataLoader\n",
    "import segmentation_models_pytorch as smp\n",
    "from tqdm import tqdm\n",
    "\n",
    "from dataloaders.dataset import CityscapesSegmentation\n",
    "from utils.custom_utils import calculate_dice_miou"
   ]
  },
  {
   "cell_type": "code",
   "execution_count": 2,
   "metadata": {},
   "outputs": [],
   "source": [
    "CFG = {\n",
    "    'NUM_CLASS':8,\n",
    "    'IMG_SIZE':800,\n",
    "    'EPOCHS':200,\n",
    "    'LR':3e-4,\n",
    "    'BATCH_SIZE':1,\n",
    "    'SEED':41,\n",
    "    'CLASS_SEGMENTATION':True,\n",
    "    'CH4':True\n",
    "}\n",
    "\n",
    "if CFG['CH4'] :\n",
    "    image_mean=[0.485, 0.456, 0.406, 0]\n",
    "    image_std=[0.229, 0.224, 0.225, 1]\n",
    "\n",
    "else :\n",
    "    image_mean=[0.485, 0.456, 0.406]\n",
    "    image_std=[0.229, 0.224, 0.225]\n",
    "\n",
    "\n",
    "model_save_dir = '/home/vision/gyuil/lab/Segmentation/save'\n"
   ]
  },
  {
   "cell_type": "code",
   "execution_count": 3,
   "metadata": {},
   "outputs": [],
   "source": [
    "device = torch.device('cuda') if torch.cuda.is_available() else torch.device('cpu')"
   ]
  },
  {
   "cell_type": "code",
   "execution_count": 4,
   "metadata": {},
   "outputs": [],
   "source": [
    "def seed_everything(seed):\n",
    "    random.seed(seed)\n",
    "    os.environ['PYTHONHASHSEED'] = str(seed)\n",
    "    np.random.seed(seed)\n",
    "    torch.manual_seed(seed)\n",
    "    torch.cuda.manual_seed(seed)\n",
    "    torch.backends.cudnn.deterministic = True\n",
    "    torch.backends.cudnn.benchmark = True\n",
    "\n",
    "seed_everything(42) # Seed 고정"
   ]
  },
  {
   "cell_type": "code",
   "execution_count": 5,
   "metadata": {},
   "outputs": [
    {
     "name": "stdout",
     "output_type": "stream",
     "text": [
      "Found 2975 train images\n",
      "Found 500 val images\n"
     ]
    }
   ],
   "source": [
    "base_size = (1024, 2048)\n",
    "crop_size = (512, 1024)\n",
    "\n",
    "cityscapes_train = CityscapesSegmentation(base_size, crop_size, split='train')\n",
    "cityscapes_val = CityscapesSegmentation(base_size, crop_size, split='val')\n",
    "# cityscapes_test = CityscapesSegmentation(base_size, crop_size, split='test')\n",
    "\n",
    "train_dataloader = DataLoader(cityscapes_train, batch_size=CFG['BATCH_SIZE'], shuffle=True, num_workers=4)\n",
    "val_dataloader = DataLoader(cityscapes_val, batch_size=CFG['BATCH_SIZE'], shuffle=True, num_workers=4)\n",
    "# test_dataloader = DataLoader(cityscapes_test, batch_size=2, shuffle=True, num_workers=4)"
   ]
  },
  {
   "cell_type": "code",
   "execution_count": 6,
   "metadata": {},
   "outputs": [],
   "source": [
    "# from torch.utils.data import Dataset, DataLoader, random_split\n",
    "\n",
    "# dataset_size = len(cityscapes_train)\n",
    "# train_size = int(dataset_size * 0.99)\n",
    "# validation_size = int(dataset_size * 0.005)\n",
    "# test_size = dataset_size - train_size - validation_size\n",
    "# _, train_dataset, val_dataset = random_split(cityscapes_train, [train_size, validation_size, test_size])\n",
    "\n",
    "\n",
    "# train_dataloader = DataLoader(train_dataset, batch_size=2, shuffle=True, num_workers=4)\n",
    "# val_dataloader = DataLoader(val_dataset, batch_size=2, shuffle=True, num_workers=4)"
   ]
  },
  {
   "cell_type": "code",
   "execution_count": 7,
   "metadata": {},
   "outputs": [],
   "source": [
    "# import matplotlib.pyplot as plt\n",
    "\n",
    "# data = next(iter(train_dataloader))\n",
    "\n",
    "\n",
    "# origin_image = data[0]\n",
    "# aug_image = data[1]\n",
    "# mask = data[2]\n",
    "\n",
    "# plt.figure(figsize=(15,15))\n",
    "\n",
    "\n",
    "# plt.subplot(1,3,1)\n",
    "# plt.imshow(origin_image.squeeze(0))\n",
    "\n",
    "# plt.subplot(1,3,2)\n",
    "# plt.imshow(aug_image.squeeze(0).permute(1,2,0))\n",
    "\n",
    "# plt.subplot(1,3,3)\n",
    "# plt.imshow(mask.permute(1,2,0))"
   ]
  },
  {
   "cell_type": "code",
   "execution_count": 8,
   "metadata": {},
   "outputs": [
    {
     "ename": "KeyboardInterrupt",
     "evalue": "",
     "output_type": "error",
     "traceback": [
      "\u001b[0;31m---------------------------------------------------------------------------\u001b[0m",
      "\u001b[0;31mKeyboardInterrupt\u001b[0m                         Traceback (most recent call last)",
      "Cell \u001b[0;32mIn[8], line 3\u001b[0m\n\u001b[1;32m      1\u001b[0m num_class \u001b[38;5;241m=\u001b[39m cityscapes_train\u001b[38;5;241m.\u001b[39mNUM_CLASSES\n\u001b[0;32m----> 3\u001b[0m model \u001b[38;5;241m=\u001b[39m \u001b[43msmp\u001b[49m\u001b[38;5;241;43m.\u001b[39;49m\u001b[43mUnetPlusPlus\u001b[49m\u001b[43m(\u001b[49m\n\u001b[1;32m      4\u001b[0m \u001b[43m                        \u001b[49m\u001b[38;5;66;43;03m# encoder=resnet50,\u001b[39;49;00m\n\u001b[1;32m      5\u001b[0m \u001b[43m                        \u001b[49m\u001b[43mencoder_name\u001b[49m\u001b[38;5;241;43m=\u001b[39;49m\u001b[38;5;124;43m\"\u001b[39;49m\u001b[38;5;124;43mresnet101\u001b[39;49m\u001b[38;5;124;43m\"\u001b[39;49m\u001b[43m,\u001b[49m\n\u001b[1;32m      6\u001b[0m \u001b[43m                        \u001b[49m\u001b[43mencoder_weights\u001b[49m\u001b[38;5;241;43m=\u001b[39;49m\u001b[38;5;124;43m\"\u001b[39;49m\u001b[38;5;124;43mimagenet\u001b[39;49m\u001b[38;5;124;43m\"\u001b[39;49m\u001b[43m,\u001b[49m\n\u001b[1;32m      7\u001b[0m \u001b[43m                        \u001b[49m\u001b[43min_channels\u001b[49m\u001b[38;5;241;43m=\u001b[39;49m\u001b[38;5;241;43m3\u001b[39;49m\u001b[43m,\u001b[49m\n\u001b[1;32m      8\u001b[0m \u001b[43m                        \u001b[49m\u001b[43mclasses\u001b[49m\u001b[38;5;241;43m=\u001b[39;49m\u001b[43mnum_class\u001b[49m\u001b[38;5;241;43m+\u001b[39;49m\u001b[38;5;241;43m1\u001b[39;49m\u001b[43m,\u001b[49m\n\u001b[1;32m      9\u001b[0m \u001b[43m                        \u001b[49m\u001b[43mpatch_attention\u001b[49m\u001b[38;5;241;43m=\u001b[39;49m\u001b[38;5;28;43;01mFalse\u001b[39;49;00m\u001b[43m,\u001b[49m\n\u001b[1;32m     10\u001b[0m \u001b[43m                    \u001b[49m\u001b[43m)\u001b[49m\n\u001b[1;32m     12\u001b[0m model\u001b[38;5;241m.\u001b[39mto(device)\n\u001b[1;32m     14\u001b[0m \u001b[38;5;66;03m# optimizer = torch.optim.Adam(model.parameters(), lr=0.001)\u001b[39;00m\n\u001b[1;32m     15\u001b[0m \u001b[38;5;66;03m# optimizer = torch.optim.Adam(model.parameters(), lr=1e-3, weight_decay=1e-5)\u001b[39;00m\n",
      "File \u001b[0;32m~/anaconda3/envs/torch/lib/python3.8/site-packages/segmentation_models_pytorch/decoders/unetplusplus/model.py:76\u001b[0m, in \u001b[0;36mUnetPlusPlus.__init__\u001b[0;34m(self, encoder_name, encoder_depth, encoder_weights, decoder_use_batchnorm, decoder_channels, decoder_attention_type, in_channels, classes, activation, aux_params, patch_attention)\u001b[0m\n\u001b[1;32m     73\u001b[0m \u001b[38;5;28;01mif\u001b[39;00m encoder_name\u001b[38;5;241m.\u001b[39mstartswith(\u001b[38;5;124m\"\u001b[39m\u001b[38;5;124mmit_b\u001b[39m\u001b[38;5;124m\"\u001b[39m):\n\u001b[1;32m     74\u001b[0m     \u001b[38;5;28;01mraise\u001b[39;00m \u001b[38;5;167;01mValueError\u001b[39;00m(\u001b[38;5;124m\"\u001b[39m\u001b[38;5;124mUnetPlusPlus is not support encoder_name=\u001b[39m\u001b[38;5;132;01m{}\u001b[39;00m\u001b[38;5;124m\"\u001b[39m\u001b[38;5;241m.\u001b[39mformat(encoder_name))\n\u001b[0;32m---> 76\u001b[0m \u001b[38;5;28mself\u001b[39m\u001b[38;5;241m.\u001b[39mencoder \u001b[38;5;241m=\u001b[39m \u001b[43mget_encoder\u001b[49m\u001b[43m(\u001b[49m\n\u001b[1;32m     77\u001b[0m \u001b[43m    \u001b[49m\u001b[43mencoder_name\u001b[49m\u001b[43m,\u001b[49m\n\u001b[1;32m     78\u001b[0m \u001b[43m    \u001b[49m\u001b[43min_channels\u001b[49m\u001b[38;5;241;43m=\u001b[39;49m\u001b[43min_channels\u001b[49m\u001b[43m,\u001b[49m\n\u001b[1;32m     79\u001b[0m \u001b[43m    \u001b[49m\u001b[43mdepth\u001b[49m\u001b[38;5;241;43m=\u001b[39;49m\u001b[43mencoder_depth\u001b[49m\u001b[43m,\u001b[49m\n\u001b[1;32m     80\u001b[0m \u001b[43m    \u001b[49m\u001b[43mweights\u001b[49m\u001b[38;5;241;43m=\u001b[39;49m\u001b[43mencoder_weights\u001b[49m\u001b[43m,\u001b[49m\n\u001b[1;32m     81\u001b[0m \u001b[43m    \u001b[49m\u001b[43mpatch_attention\u001b[49m\u001b[38;5;241;43m=\u001b[39;49m\u001b[43mpatch_attention\u001b[49m\u001b[43m,\u001b[49m\n\u001b[1;32m     82\u001b[0m \u001b[43m\u001b[49m\u001b[43m)\u001b[49m\n\u001b[1;32m     84\u001b[0m \u001b[38;5;66;03m# self.encoder = encoder\u001b[39;00m\n\u001b[1;32m     86\u001b[0m \u001b[38;5;28mself\u001b[39m\u001b[38;5;241m.\u001b[39mdecoder \u001b[38;5;241m=\u001b[39m UnetPlusPlusDecoder(\n\u001b[1;32m     87\u001b[0m     encoder_channels\u001b[38;5;241m=\u001b[39m\u001b[38;5;28mself\u001b[39m\u001b[38;5;241m.\u001b[39mencoder\u001b[38;5;241m.\u001b[39mout_channels,\n\u001b[1;32m     88\u001b[0m     decoder_channels\u001b[38;5;241m=\u001b[39mdecoder_channels,\n\u001b[0;32m   (...)\u001b[0m\n\u001b[1;32m     92\u001b[0m     attention_type\u001b[38;5;241m=\u001b[39mdecoder_attention_type,\n\u001b[1;32m     93\u001b[0m )\n",
      "File \u001b[0;32m~/anaconda3/envs/torch/lib/python3.8/site-packages/segmentation_models_pytorch/encoders/__init__.py:73\u001b[0m, in \u001b[0;36mget_encoder\u001b[0;34m(name, in_channels, depth, weights, output_stride, patch_attention, **kwargs)\u001b[0m\n\u001b[1;32m     71\u001b[0m params\u001b[38;5;241m.\u001b[39mupdate(depth\u001b[38;5;241m=\u001b[39mdepth)\n\u001b[1;32m     72\u001b[0m params\u001b[38;5;241m.\u001b[39mupdate(patch_attention\u001b[38;5;241m=\u001b[39mpatch_attention)\n\u001b[0;32m---> 73\u001b[0m encoder \u001b[38;5;241m=\u001b[39m \u001b[43mEncoder\u001b[49m\u001b[43m(\u001b[49m\u001b[38;5;241;43m*\u001b[39;49m\u001b[38;5;241;43m*\u001b[39;49m\u001b[43mparams\u001b[49m\u001b[43m)\u001b[49m\n\u001b[1;32m     75\u001b[0m \u001b[38;5;28;01mif\u001b[39;00m weights \u001b[38;5;129;01mis\u001b[39;00m \u001b[38;5;129;01mnot\u001b[39;00m \u001b[38;5;28;01mNone\u001b[39;00m:\n\u001b[1;32m     76\u001b[0m     \u001b[38;5;28;01mtry\u001b[39;00m:\n",
      "File \u001b[0;32m~/anaconda3/envs/torch/lib/python3.8/site-packages/segmentation_models_pytorch/encoders/resnet.py:76\u001b[0m, in \u001b[0;36mResNetEncoder.__init__\u001b[0;34m(self, out_channels, depth, patch_attention, **kwargs)\u001b[0m\n\u001b[1;32m     75\u001b[0m \u001b[38;5;28;01mdef\u001b[39;00m \u001b[38;5;21m__init__\u001b[39m(\u001b[38;5;28mself\u001b[39m, out_channels, depth\u001b[38;5;241m=\u001b[39m\u001b[38;5;241m5\u001b[39m, patch_attention\u001b[38;5;241m=\u001b[39m\u001b[38;5;28;01mFalse\u001b[39;00m, \u001b[38;5;241m*\u001b[39m\u001b[38;5;241m*\u001b[39mkwargs):\n\u001b[0;32m---> 76\u001b[0m     \u001b[38;5;28;43msuper\u001b[39;49m\u001b[43m(\u001b[49m\u001b[43m)\u001b[49m\u001b[38;5;241;43m.\u001b[39;49m\u001b[38;5;21;43m__init__\u001b[39;49m\u001b[43m(\u001b[49m\u001b[38;5;241;43m*\u001b[39;49m\u001b[38;5;241;43m*\u001b[39;49m\u001b[43mkwargs\u001b[49m\u001b[43m)\u001b[49m\n\u001b[1;32m     77\u001b[0m     \u001b[38;5;28mself\u001b[39m\u001b[38;5;241m.\u001b[39m_depth \u001b[38;5;241m=\u001b[39m depth\n\u001b[1;32m     78\u001b[0m     \u001b[38;5;28mself\u001b[39m\u001b[38;5;241m.\u001b[39m_out_channels \u001b[38;5;241m=\u001b[39m out_channels\n",
      "File \u001b[0;32m~/anaconda3/envs/torch/lib/python3.8/site-packages/torchvision/models/resnet.py:210\u001b[0m, in \u001b[0;36mResNet.__init__\u001b[0;34m(self, block, layers, num_classes, zero_init_residual, groups, width_per_group, replace_stride_with_dilation, norm_layer)\u001b[0m\n\u001b[1;32m    208\u001b[0m \u001b[38;5;28;01mfor\u001b[39;00m m \u001b[38;5;129;01min\u001b[39;00m \u001b[38;5;28mself\u001b[39m\u001b[38;5;241m.\u001b[39mmodules():\n\u001b[1;32m    209\u001b[0m     \u001b[38;5;28;01mif\u001b[39;00m \u001b[38;5;28misinstance\u001b[39m(m, nn\u001b[38;5;241m.\u001b[39mConv2d):\n\u001b[0;32m--> 210\u001b[0m         \u001b[43mnn\u001b[49m\u001b[38;5;241;43m.\u001b[39;49m\u001b[43minit\u001b[49m\u001b[38;5;241;43m.\u001b[39;49m\u001b[43mkaiming_normal_\u001b[49m\u001b[43m(\u001b[49m\u001b[43mm\u001b[49m\u001b[38;5;241;43m.\u001b[39;49m\u001b[43mweight\u001b[49m\u001b[43m,\u001b[49m\u001b[43m \u001b[49m\u001b[43mmode\u001b[49m\u001b[38;5;241;43m=\u001b[39;49m\u001b[38;5;124;43m\"\u001b[39;49m\u001b[38;5;124;43mfan_out\u001b[39;49m\u001b[38;5;124;43m\"\u001b[39;49m\u001b[43m,\u001b[49m\u001b[43m \u001b[49m\u001b[43mnonlinearity\u001b[49m\u001b[38;5;241;43m=\u001b[39;49m\u001b[38;5;124;43m\"\u001b[39;49m\u001b[38;5;124;43mrelu\u001b[39;49m\u001b[38;5;124;43m\"\u001b[39;49m\u001b[43m)\u001b[49m\n\u001b[1;32m    211\u001b[0m     \u001b[38;5;28;01melif\u001b[39;00m \u001b[38;5;28misinstance\u001b[39m(m, (nn\u001b[38;5;241m.\u001b[39mBatchNorm2d, nn\u001b[38;5;241m.\u001b[39mGroupNorm)):\n\u001b[1;32m    212\u001b[0m         nn\u001b[38;5;241m.\u001b[39minit\u001b[38;5;241m.\u001b[39mconstant_(m\u001b[38;5;241m.\u001b[39mweight, \u001b[38;5;241m1\u001b[39m)\n",
      "File \u001b[0;32m~/anaconda3/envs/torch/lib/python3.8/site-packages/torch/nn/init.py:505\u001b[0m, in \u001b[0;36mkaiming_normal_\u001b[0;34m(tensor, a, mode, nonlinearity, generator)\u001b[0m\n\u001b[1;32m    503\u001b[0m std \u001b[38;5;241m=\u001b[39m gain \u001b[38;5;241m/\u001b[39m math\u001b[38;5;241m.\u001b[39msqrt(fan)\n\u001b[1;32m    504\u001b[0m \u001b[38;5;28;01mwith\u001b[39;00m torch\u001b[38;5;241m.\u001b[39mno_grad():\n\u001b[0;32m--> 505\u001b[0m     \u001b[38;5;28;01mreturn\u001b[39;00m \u001b[43mtensor\u001b[49m\u001b[38;5;241;43m.\u001b[39;49m\u001b[43mnormal_\u001b[49m\u001b[43m(\u001b[49m\u001b[38;5;241;43m0\u001b[39;49m\u001b[43m,\u001b[49m\u001b[43m \u001b[49m\u001b[43mstd\u001b[49m\u001b[43m,\u001b[49m\u001b[43m \u001b[49m\u001b[43mgenerator\u001b[49m\u001b[38;5;241;43m=\u001b[39;49m\u001b[43mgenerator\u001b[49m\u001b[43m)\u001b[49m\n",
      "\u001b[0;31mKeyboardInterrupt\u001b[0m: "
     ]
    }
   ],
   "source": [
    "num_class = cityscapes_train.NUM_CLASSES\n",
    "\n",
    "model = smp.UnetPlusPlus(\n",
    "                        # encoder=resnet50,\n",
    "                        encoder_name=\"resnet101\",\n",
    "                        encoder_weights=\"imagenet\",\n",
    "                        in_channels=3,\n",
    "                        classes=num_class+1,\n",
    "                        patch_attention=False,\n",
    "                    )\n",
    "\n",
    "model.to(device)\n",
    "\n",
    "# optimizer = torch.optim.Adam(model.parameters(), lr=0.001)\n",
    "# optimizer = torch.optim.Adam(model.parameters(), lr=1e-3, weight_decay=1e-5)\n",
    "optimizer = torch.optim.SGD(model.parameters(), lr=0.01, momentum=0.9, weight_decay=0.0005)\n",
    "criterion = torch.nn.CrossEntropyLoss(ignore_index=255).to(device) ### without focal loss"
   ]
  },
  {
   "cell_type": "code",
   "execution_count": null,
   "metadata": {},
   "outputs": [],
   "source": [
    "train_losses = []\n",
    "test_losses = []\n",
    "train_dice_scores = []\n",
    "test_dice_scores = []\n",
    "train_iou_scores = []\n",
    "test_iou_scores = []\n",
    "\n",
    "sigmoid = nn.Sigmoid()\n",
    "\n",
    "for epoch in range(100) :\n",
    "    model.train()\n",
    "    train_loss=0\n",
    "    train_dice_score=0\n",
    "    train_iou_score=0\n",
    "    for data in tqdm(train_dataloader) :\n",
    "        images = data[0].cuda()\n",
    "        masks = data[1].cuda()\n",
    "        masks[masks==255.] = num_class\n",
    "\n",
    "        optimizer.zero_grad()\n",
    "        outputs = model(images)\n",
    "\n",
    "        loss = criterion(outputs.float(), masks.long())\n",
    "        loss.backward()\n",
    "\n",
    "        preds = torch.softmax(outputs, dim=1).cpu()\n",
    "        preds = torch.argmax(preds, dim=1).numpy()\n",
    "            \n",
    "        optimizer.step()\n",
    "        # loss\n",
    "        train_loss += loss.item()\n",
    "\n",
    "        # dice score\n",
    "        dice, iou = calculate_dice_miou(preds, masks.squeeze(1).cpu().numpy(), num_classes=num_class+1)\n",
    "        train_dice_score += dice\n",
    "        train_iou_score += iou\n",
    "\n",
    "        del masks, images\n",
    "\n",
    "    print(f\"Epoch {epoch+1}, Train Loss : {train_loss/len(train_dataloader)}, Train Dice Score : {train_dice_score/len(train_dataloader)}, Train IoU Score : {train_iou_score/len(train_dataloader)}\")\n",
    "    train_losses.append(train_loss/len(train_dataloader))\n",
    "    train_dice_scores.append(train_dice_score/len(train_dataloader))\n",
    "    train_iou_scores.append(train_iou_score/len(train_dataloader))\n",
    "    \n",
    "\n",
    "    # recording & model save\n",
    "    if epoch % 10 == 0 :\n",
    "        model.eval()\n",
    "        test_loss = 0\n",
    "        test_dice_score = 0\n",
    "        test_iou_score = 0\n",
    "        for data in tqdm(val_dataloader) :\n",
    "            \n",
    "            images = data[0].cuda()\n",
    "            masks = data[1].cuda()\n",
    "\n",
    "            outputs = model(images)\n",
    "\n",
    "            # loss\n",
    "            loss = criterion(outputs.float(), masks.long())\n",
    "            preds = torch.softmax(outputs, dim=1).cpu()\n",
    "            preds = torch.argmax(preds, dim=1).numpy()\n",
    "\n",
    "            test_loss += loss.item()\n",
    "\n",
    "            # dice score\n",
    "            dice, iou = calculate_dice_miou(preds, masks.squeeze(1).cpu().numpy(), num_classes=num_class+1)\n",
    "            test_iou_score += iou.item()\n",
    "            test_dice_score += dice.item()\n",
    "\n",
    "            del masks, images\n",
    "\n",
    "        print(f\"Epoch {epoch+1}, Test Loss : {test_loss/len(val_dataloader)}, Test Dice Score : {test_dice_score/len(val_dataloader)}, Test IoU Score : {test_iou_score/len(val_dataloader)}\")\n",
    "        test_losses.append(test_loss/len(val_dataloader))\n",
    "        test_dice_scores.append(test_dice_score/len(val_dataloader))\n",
    "        test_iou_scores.append(test_iou_score/len(val_dataloader))\n",
    "\n",
    "        model_name = str(epoch) + \"_unetpp\"\n",
    "        torch.save(model.state_dict(), os.path.join(model_save_dir, model_name))\n",
    "\n",
    "    with open(os.path.join(model_save_dir, \"unetpp_trainloss.json\"), \"w\") as file :\n",
    "        json.dump(train_losses, file)\n",
    "\n",
    "    with open(os.path.join(model_save_dir, \"unetpp_valloss.json\"), \"w\") as file :\n",
    "        json.dump(test_losses, file)\n",
    "\n",
    "    with open(os.path.join(model_save_dir, \"unetpp_traindice.json\"), \"w\") as file :\n",
    "        json.dump(train_dice_scores, file)\n",
    "\n",
    "    with open(os.path.join(model_save_dir, \"unetpp_testdice.json\"), \"w\") as file :\n",
    "        json.dump(test_dice_scores, file)\n",
    "\n",
    "    with open(os.path.join(model_save_dir, \"unetpp_trainiou.json\"), \"w\") as file :\n",
    "        json.dump(train_iou_scores, file)\n",
    "\n",
    "    with open(os.path.join(model_save_dir, \"unetpp_testiou.json\"), \"w\") as file :\n",
    "        json.dump(test_iou_scores, file)"
   ]
  }
 ],
 "metadata": {
  "kernelspec": {
   "display_name": "torch",
   "language": "python",
   "name": "python3"
  },
  "language_info": {
   "codemirror_mode": {
    "name": "ipython",
    "version": 3
   },
   "file_extension": ".py",
   "mimetype": "text/x-python",
   "name": "python",
   "nbconvert_exporter": "python",
   "pygments_lexer": "ipython3",
   "version": "3.8.19"
  }
 },
 "nbformat": 4,
 "nbformat_minor": 2
}
